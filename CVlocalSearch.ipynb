{
 "cells": [
  {
   "cell_type": "code",
   "execution_count": 191,
   "metadata": {},
   "outputs": [
    {
     "data": {
      "image/png": "[encoded data removed]",
      "text/plain": [
       "<Figure size 360x360 with 1 Axes>"
      ]
     },
     "metadata": {
      "needs_background": "light"
     },
     "output_type": "display_data"
    }
   ],
   "source": [
    "import cv2\n",
    "import numpy as np\n",
    "from matplotlib import pyplot as plt\n",
    "import copy\n",
    "%matplotlib inline\n",
    "\n",
    "#creation of the initial image\n",
    "operator_dim = 3\n",
    "image_dim = operator_dim*3\n",
    "min_color = 50\n",
    "max_color = 250\n",
    "random_colored_image = np.array(min_color + (max_color-min_color)*np.random.random((image_dim,image_dim,3)),dtype = 'uint8')\n",
    "\n",
    "\n",
    "R = random_colored_image[:,:,0] # Getting the first axis, Red\n",
    "G = random_colored_image[:,:,1] # Getting the second axis, Green\n",
    "B = random_colored_image[:,:,2] # Getting the third axis, Blue\n",
    "\n",
    "#just to see\n",
    "B[...] = 0\n",
    "G[...] = 0\n",
    "\n",
    "\n",
    "plt.figure(figsize=(5,5))\n",
    "plt.imshow(random_colored_image)\n",
    "plt.show()\n",
    "\n",
    "\n",
    "\n",
    "# save and import if needed\n",
    "# cv2.imwrite('king_position_weight.jpg', image)\n",
    "# gray = cv2.imread(\"king_position_weight.jpg\", cv2.IMREAD_GRAYSCALE)"
   ]
  },
  {
   "cell_type": "code",
   "execution_count": 182,
   "metadata": {},
   "outputs": [],
   "source": [
    "#function to optimize\n",
    "\n",
    "#the variation of color between neighbours\n",
    "\n",
    "#division of the image in the 3 colors\n",
    "def fitness(image):\n",
    "\n",
    "    print_colors = False\n",
    "\n",
    "    R = image[:,:,0] # Getting the first axis, Red\n",
    "    G = image[:,:,1] # Getting the second axis, Green\n",
    "    B = image[:,:,2] # Getting the third axis, Blue\n",
    "    \n",
    "\n",
    "    if print_colors:\n",
    "        plt.figure(figsize=(20,20))\n",
    "        plt.subplot(1,3,1)\n",
    "        plt.imshow(R,'Reds')\n",
    "        plt.subplot(1,3,2)\n",
    "        plt.imshow(G,'Greens')\n",
    "        plt.subplot(1,3,3)\n",
    "        plt.imshow(B,'Blues')\n",
    "\n",
    "    #kernels \n",
    "    kernels = []\n",
    "#forward mean\n",
    "#     kernels.append(np.array([[-1,1],\n",
    "#                        [-2,2],\n",
    "#                        [-1,1]])/4)\n",
    "#     kernels.append(np.array([[-1,-2,-1],\n",
    "#                        [1,2,1]])/4)\n",
    "#central mean\n",
    "#     kernels.append(np.array([[-1,0,1],\n",
    "#                        [-2,0,2],\n",
    "#                        [-1,0,1]])/4)\n",
    "#     kernels.append(np.array([[-1,-2,-1],\n",
    "#                        [0,0,0],\n",
    "#                        [1,2,1]])/4)\n",
    "#forward\n",
    "    kernels.append(np.array([[-1,1]]))\n",
    "    kernels.append(np.array([[-1],\n",
    "                             [1]]))\n",
    "    \n",
    "    def slider(operator):\n",
    "        i = 0\n",
    "        value = 0\n",
    "        i_operator,j_operator = operator.shape\n",
    "        for i in range(image_dim-i_operator):\n",
    "            for j in range(image_dim-j_operator):\n",
    "                tmp_part_of_image = R[i:i+i_operator,j:j+j_operator]\n",
    "                tmp_result = abs(np.sum(tmp_part_of_image*operator))\n",
    "                value += tmp_result\n",
    "                tmp_part_of_image = G[i:i+i_operator,j:j+j_operator]\n",
    "                tmp_result = abs(np.sum(tmp_part_of_image*operator))\n",
    "                value += tmp_result\n",
    "                tmp_part_of_image = B[i:i+i_operator,j:j+j_operator]\n",
    "                tmp_result = abs(np.sum(tmp_part_of_image*operator))\n",
    "                value += tmp_result\n",
    "                j+=1\n",
    "            i+=1\n",
    "        return value\n",
    "    fitness_value = 0\n",
    "    for kernel in kernels:\n",
    "        fitness_value += slider(kernel)\n",
    "    return fitness_value"
   ]
  },
  {
   "cell_type": "code",
   "execution_count": 65,
   "metadata": {},
   "outputs": [
    {
     "name": "stdout",
     "output_type": "stream",
     "text": [
      "1000\n",
      "2000\n",
      "3000\n",
      "4000\n",
      "5000\n",
      "6000\n",
      "7000\n",
      "8000\n",
      "9000\n",
      "10000\n"
     ]
    },
    {
     "data": {
      "image/png": "[encoded data removed]",
      "text/plain": [
       "<Figure size 360x360 with 1 Axes>"
      ]
     },
     "metadata": {
      "needs_background": "light"
     },
     "output_type": "display_data"
    },
    {
     "name": "stdout",
     "output_type": "stream",
     "text": [
      "1551.0\n"
     ]
    }
   ],
   "source": [
    "#search for the best image with permutation(base)\n",
    "max_iterations = 10000\n",
    "good_value = 10\n",
    "i = 0\n",
    "best = fitness(random_colored_image)\n",
    "while(best>=good_value and i < max_iterations):\n",
    "    permutation = image_permutation()\n",
    "    candidate = fitness(permutation)\n",
    "    if candidate < best:\n",
    "        best = candidate\n",
    "        best_image = permutation\n",
    "    i+=1\n",
    "    if not i%(max_iterations/10):\n",
    "        print(i)\n",
    "    \n",
    "    \n",
    "plt.figure(figsize=(5,5))\n",
    "plt.imshow(best_image)\n",
    "plt.show()\n",
    "\n",
    "print(best)\n",
    "\n"
   ]
  },
  {
   "cell_type": "code",
   "execution_count": 119,
   "metadata": {},
   "outputs": [],
   "source": [
    "#creation of neighbourhood\n",
    "\n",
    "#permutation\n",
    "def image_permutation():\n",
    "    return np.random.permutation(permutation)\n",
    "\n",
    "#k-exchange\n",
    "def k_exchange(k,image):\n",
    "    for i in range(k):\n",
    "        coordinates_to_exchange = np.array(image_dim*np.random.random((2,2)),dtype = int)\n",
    "        a = copy.copy(image[coordinates_to_exchange[0,:][0],coordinates_to_exchange[0,:][1]])\n",
    "        image[coordinates_to_exchange[0,:][0],coordinates_to_exchange[0,:][1]] = image[coordinates_to_exchange[1,:][0],coordinates_to_exchange[1,:][1]] \n",
    "        image[coordinates_to_exchange[1,:][0],coordinates_to_exchange[1,:][1]] = a\n",
    "        \n",
    "        \n"
   ]
  },
  {
   "cell_type": "code",
   "execution_count": 185,
   "metadata": {},
   "outputs": [],
   "source": [
    "#hill climbing\n",
    "def hill_climbing(max_iterations,good_value,neighbour_dimension,k,image):\n",
    "    #video generation\n",
    "    fourcc = cv2.VideoWriter_fourcc(*'DIVX')\n",
    "    # N.B. we need to specify the correct width and height of the frames otherwise we will not be able to reproduce the video\n",
    "    out = cv2.VideoWriter('output.avi', fourcc, 5, (image_dim,image_dim))\n",
    "    i = 0\n",
    "    stop = False\n",
    "    best = fitness(image)\n",
    "    best_image = image\n",
    "    while(best>=good_value and i < max_iterations and not stop):\n",
    "        for j in range(neighbour_dimension):\n",
    "            stop = True\n",
    "            image = np.copy(best_image)\n",
    "            k_exchange(k,image)\n",
    "            candidate = fitness(image)\n",
    "            i+=1\n",
    "            if candidate < best:\n",
    "                best = candidate\n",
    "                best_image = np.copy(image)\n",
    "                out.write(image)\n",
    "                stop = False\n",
    "                break \n",
    "        if not i%(max_iterations/10):\n",
    "            print(i)\n",
    "    out.release()\n",
    "    if best < good_value:\n",
    "        print('better than good value')\n",
    "    elif i>max_iterations:\n",
    "        print('max iteration')\n",
    "    else:\n",
    "        print('local minimum')\n",
    "    print('')\n",
    "    print(best)       \n",
    "\n",
    "    plt.figure(figsize=(5,5))\n",
    "    plt.imshow(best_image)\n",
    "    plt.show()\n",
    "    return best_image\n",
    "\n",
    "    "
   ]
  },
  {
   "cell_type": "code",
   "execution_count": 192,
   "metadata": {},
   "outputs": [
    {
     "name": "stdout",
     "output_type": "stream",
     "text": [
      "Released Video Resource\n"
     ]
    }
   ],
   "source": [
    "max_iterations = 100000\n",
    "good_value = 10\n",
    "best_image = hill_climbing(max_iterations,good_value,2000,1,random_colored_image)\n",
    "\n",
    "play_video('output.avi')"
   ]
  },
  {
   "cell_type": "code",
   "execution_count": 162,
   "metadata": {},
   "outputs": [
    {
     "data": {
      "image/png": "[encoded data removed]",
      "text/plain": [
       "<Figure size 360x360 with 1 Axes>"
      ]
     },
     "metadata": {
      "needs_background": "light"
     },
     "output_type": "display_data"
    }
   ],
   "source": [
    "plt.figure(figsize=(5,5))\n",
    "plt.imshow(best_image)\n",
    "plt.show()"
   ]
  },
  {
   "cell_type": "code",
   "execution_count": 154,
   "metadata": {},
   "outputs": [
    {
     "name": "stdout",
     "output_type": "stream",
     "text": [
      "local minimum\n",
      "\n",
      "498.5\n"
     ]
    },
    {
     "data": {
      "image/png": "[encoded data removed]",
      "text/plain": [
       "<Figure size 360x360 with 1 Axes>"
      ]
     },
     "metadata": {
      "needs_background": "light"
     },
     "output_type": "display_data"
    }
   ],
   "source": [
    "#recursive hill climb\n",
    "best_image = hill_climbing(max_iterations,good_value,3000,1,best_image)"
   ]
  },
  {
   "cell_type": "code",
   "execution_count": 187,
   "metadata": {},
   "outputs": [],
   "source": [
    "# Put the code in try-except statements catch the keyboard exception and release the camera device and \n",
    "# continue with the rest of code.\n",
    "\n",
    "from IPython.display import clear_output\n",
    "def play_video(video_path):\n",
    "    cap = cv2.VideoCapture(video_path)\n",
    "    # Try-except statement to manage exceptions\n",
    "    try:\n",
    "        while(True):\n",
    "            # Capture frame\n",
    "            ret, frame = cap.read()\n",
    "            if not ret or frame is None:\n",
    "                # Release the Video if ret is false\n",
    "                cap.release()\n",
    "                print(\"Released Video Resource\")\n",
    "                # Break exit the for loops\n",
    "                break\n",
    "            \n",
    "            # Display the frame\n",
    "            frame = cv2.cvtColor(frame, cv2.COLOR_BGR2RGB)\n",
    "            plt.axis('off')\n",
    "            plt.title(\"Input Stream\")\n",
    "            plt.imshow(frame)\n",
    "            plt.show()\n",
    "            \n",
    "            # Clear cell output when new frame is available\n",
    "            clear_output(wait=True)\n",
    "    except KeyboardInterrupt:\n",
    "        # If we press stop (jupyter GUI) release the video\n",
    "        cap.release()\n",
    "        print(\"Released Video Resource\")"
   ]
  },
  {
   "cell_type": "code",
   "execution_count": null,
   "metadata": {},
   "outputs": [],
   "source": []
  }
 ],
 "metadata": {
  "kernelspec": {
   "display_name": "Python 3",
   "language": "python",
   "name": "python3"
  },
  "language_info": {
   "codemirror_mode": {
    "name": "ipython",
    "version": 3
   },
   "file_extension": ".py",
   "mimetype": "text/x-python",
   "name": "python",
   "nbconvert_exporter": "python",
   "pygments_lexer": "ipython3",
   "version": "3.7.4"
  }
 },
 "nbformat": 4,
 "nbformat_minor": 2
}
